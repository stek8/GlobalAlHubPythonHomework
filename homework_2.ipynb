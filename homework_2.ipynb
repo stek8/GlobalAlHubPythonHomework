{
 "cells": [
  {
   "cell_type": "code",
   "execution_count": 9,
   "metadata": {},
   "outputs": [
    {
     "name": "stdout",
     "output_type": "stream",
     "text": [
      "user identification program\n"
     ]
    }
   ],
   "source": [
    "print('user identification program')\n",
    "first_name=\"seyma\"\n",
    "last_name=\"tek\"\n",
    "age=\"32\"\n",
    "date_of_birth=\"1988\""
   ]
  },
  {
   "cell_type": "code",
   "execution_count": 14,
   "metadata": {},
   "outputs": [
    {
     "name": "stdout",
     "output_type": "stream",
     "text": [
      "['seyma', 'tek', 32, 1988]\n"
     ]
    }
   ],
   "source": [
    "list1=[\"seyma\",\"tek\",32,1988]\n",
    "for i in [list1]:\n",
    "    print(i)"
   ]
  },
  {
   "cell_type": "code",
   "execution_count": 16,
   "metadata": {},
   "outputs": [
    {
     "name": "stdout",
     "output_type": "stream",
     "text": [
      "please enter your age: 32\n",
      "You can go out the street.\n"
     ]
    }
   ],
   "source": [
    "age = int(input(\"please enter your age: \"))\n",
    "\n",
    "if age < 18:\n",
    "    print (\"You can't go out because it's too dangerous\")\n",
    "elif age >= 18:\n",
    "    print (\"You can go out the street.\")"
   ]
  },
  {
   "cell_type": "code",
   "execution_count": null,
   "metadata": {},
   "outputs": [],
   "source": []
  }
 ],
 "metadata": {
  "kernelspec": {
   "display_name": "Python 3",
   "language": "python",
   "name": "python3"
  },
  "language_info": {
   "codemirror_mode": {
    "name": "ipython",
    "version": 3
   },
   "file_extension": ".py",
   "mimetype": "text/x-python",
   "name": "python",
   "nbconvert_exporter": "python",
   "pygments_lexer": "ipython3",
   "version": "3.9.1"
  }
 },
 "nbformat": 4,
 "nbformat_minor": 4
}
